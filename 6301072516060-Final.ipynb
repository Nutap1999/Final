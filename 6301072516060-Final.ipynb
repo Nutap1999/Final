{
 "cells": [
  {
   "cell_type": "code",
   "execution_count": 1,
   "metadata": {},
   "outputs": [],
   "source": [
    "import cv2"
   ]
  },
  {
   "cell_type": "code",
   "execution_count": 2,
   "metadata": {},
   "outputs": [],
   "source": [
    "#คลิปเต็ม kongRuksiam 1:00:20/7:46:44 คลิป Ep.4 stackpython ตรวจจับ\n",
    "cap = cv2.VideoCapture(\"left_output-1.avi\")\n",
    "while (cap.isOpened()):\n",
    "    check , frame = cap.read()\n",
    "    if check == True :\n",
    "        template = cv2.imread('Template-45.png')\n",
    "        h, w, _= template.shape\n",
    "        res = cv2.matchTemplate(frame, template, cv2.TM_CCOEFF_NORMED)\n",
    "        min_val, max_val, min_loc, max_loc = cv2.minMaxLoc(res)\n",
    "        top_left = max_loc\n",
    "        bottom_right = (top_left[0] + w, top_left[1] + h)\n",
    "        cv2.rectangle(frame, top_left, bottom_right, (0, 0, 255), 2)\n",
    "        cv2.imshow(\"Output\", frame)\n",
    "        if cv2.waitKey(1) & 0xFF == ord (\"e\") :\n",
    "            break \n",
    "    else :\n",
    "        break\n",
    "#cap.release()\n",
    "cv2.destroyAllWindows()\n"
   ]
  }
 ],
 "metadata": {
  "kernelspec": {
   "display_name": "Python 3.10.6 64-bit",
   "language": "python",
   "name": "python3"
  },
  "language_info": {
   "codemirror_mode": {
    "name": "ipython",
    "version": 3
   },
   "file_extension": ".py",
   "mimetype": "text/x-python",
   "name": "python",
   "nbconvert_exporter": "python",
   "pygments_lexer": "ipython3",
   "version": "3.10.6"
  },
  "orig_nbformat": 4,
  "vscode": {
   "interpreter": {
    "hash": "df95319d8ce4e1d89f5365ae10992bc1f65da593082b1d264e8f529830ec2f02"
   }
  }
 },
 "nbformat": 4,
 "nbformat_minor": 2
}
